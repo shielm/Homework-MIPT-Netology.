{
 "cells": [
  {
   "cell_type": "markdown",
   "metadata": {},
   "source": [
    "# Домашнее задание\n",
    "1. Переведите содержимое файла purchase_log.txt в словарь purchases вида:\n",
    "```python\n",
    "{'1840e0b9d4': 'Продукты', ...}\n",
    "```\n",
    "\n",
    "2. Для каждого user_id в файле visit_log.csv добавьте третий столбец с категорией покупки (если покупка была).\n",
    "\n",
    "3. Запишите в файл funnel.csv визиты из файла visit_log.csv, в которых были покупки с указанием категории.\n",
    "\n",
    "Учтите условия на данные:\n",
    "- содержимое purchase_log.txt помещается в оперативную память компьютера\n",
    "- содержимое visit_log.csv - нет; используйте только построчную обработку этого файла"
   ]
  },
  {
   "cell_type": "code",
   "execution_count": 10,
   "metadata": {},
   "outputs": [],
   "source": [
    "import json"
   ]
  },
  {
   "cell_type": "code",
   "execution_count": 11,
   "metadata": {},
   "outputs": [],
   "source": [
    "new_dict={}\n",
    "with open('purchase_log.txt', encoding='utf-8') as f :\n",
    "    for line in f:\n",
    "        line = line.strip()\n",
    "        dict_ = json.loads(line)\n",
    "        #print(dict_)\n",
    "        key=dict_['user_id']\n",
    "        value=dict_['category']\n",
    "        if key!='user_id':\n",
    "            new_dict.setdefault(key,value)"
   ]
  },
  {
   "cell_type": "code",
   "execution_count": 13,
   "metadata": {},
   "outputs": [],
   "source": [
    "with open('visit_log.csv', 'r') as f, open('funnel.csv', 'w') as w_f:\n",
    "    for row in f:\n",
    "        line_list=row.strip().split(',')\n",
    "        if line_list[0] in new_dict.keys():\n",
    "            line_list.append(new_dict[line_list[0]])\n",
    "            add_line=','.join(line_list)\n",
    "        elif line_list[0]=='user_id':\n",
    "            line_list.append('category')\n",
    "            add_line=','.join(line_list)\n",
    "        else:\n",
    "            add_line=','.join(line_list)\n",
    "        w_f.write(add_line+'\\n')"
   ]
  }
 ],
 "metadata": {
  "kernelspec": {
   "display_name": "Python 3",
   "language": "python",
   "name": "python3"
  },
  "language_info": {
   "codemirror_mode": {
    "name": "ipython",
    "version": 3
   },
   "file_extension": ".py",
   "mimetype": "text/x-python",
   "name": "python",
   "nbconvert_exporter": "python",
   "pygments_lexer": "ipython3",
   "version": "3.7.3"
  }
 },
 "nbformat": 4,
 "nbformat_minor": 2
}
